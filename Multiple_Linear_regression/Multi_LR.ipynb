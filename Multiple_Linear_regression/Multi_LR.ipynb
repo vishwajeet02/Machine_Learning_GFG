{
 "cells": [
  {
   "cell_type": "code",
   "execution_count": null,
   "id": "42e16bb1-0ea5-4df4-be0a-f76324f81d49",
   "metadata": {},
   "outputs": [],
   "source": []
  }
 ],
 "metadata": {
  "kernelspec": {
   "display_name": "",
   "name": ""
  },
  "language_info": {
   "name": ""
  }
 },
 "nbformat": 4,
 "nbformat_minor": 5
}
