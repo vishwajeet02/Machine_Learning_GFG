{
 "cells": [
  {
   "cell_type": "markdown",
   "id": "c7bd6884-f686-4e08-a8ea-f1b0613365c0",
   "metadata": {},
   "source": [
    "## IMPORTING LIBRARY"
   ]
  },
  {
   "cell_type": "code",
   "execution_count": 1,
   "id": "90d4473c-cf4d-4ed8-a594-dd33647cce29",
   "metadata": {},
   "outputs": [],
   "source": [
    "import numpy as np\n",
    "import pandas as pd\n",
    "import matplotlib.pyplot as plt\n",
    "import matplotlib.axes as ax"
   ]
  },
  {
   "cell_type": "markdown",
   "id": "7aa1b61d-93ac-42bb-8e4a-b421fd971bc6",
   "metadata": {},
   "source": [
    "## LOADING DATA"
   ]
  },
  {
   "cell_type": "code",
   "execution_count": 2,
   "id": "f5432058-32ae-4498-9aae-62b8ca56f49e",
   "metadata": {},
   "outputs": [],
   "source": [
    "data = pd.read_csv('data_for_lr.csv')"
   ]
  },
  {
   "cell_type": "code",
   "execution_count": 3,
   "id": "c5e9f887-8055-47b5-ae4a-51f219155bbe",
   "metadata": {},
   "outputs": [
    {
     "data": {
      "text/html": [
       "<div>\n",
       "<style scoped>\n",
       "    .dataframe tbody tr th:only-of-type {\n",
       "        vertical-align: middle;\n",
       "    }\n",
       "\n",
       "    .dataframe tbody tr th {\n",
       "        vertical-align: top;\n",
       "    }\n",
       "\n",
       "    .dataframe thead th {\n",
       "        text-align: right;\n",
       "    }\n",
       "</style>\n",
       "<table border=\"1\" class=\"dataframe\">\n",
       "  <thead>\n",
       "    <tr style=\"text-align: right;\">\n",
       "      <th></th>\n",
       "      <th>x</th>\n",
       "      <th>y</th>\n",
       "    </tr>\n",
       "  </thead>\n",
       "  <tbody>\n",
       "    <tr>\n",
       "      <th>0</th>\n",
       "      <td>24.0</td>\n",
       "      <td>21.549452</td>\n",
       "    </tr>\n",
       "    <tr>\n",
       "      <th>1</th>\n",
       "      <td>50.0</td>\n",
       "      <td>47.464463</td>\n",
       "    </tr>\n",
       "    <tr>\n",
       "      <th>2</th>\n",
       "      <td>15.0</td>\n",
       "      <td>17.218656</td>\n",
       "    </tr>\n",
       "    <tr>\n",
       "      <th>3</th>\n",
       "      <td>38.0</td>\n",
       "      <td>36.586398</td>\n",
       "    </tr>\n",
       "    <tr>\n",
       "      <th>4</th>\n",
       "      <td>87.0</td>\n",
       "      <td>87.288984</td>\n",
       "    </tr>\n",
       "  </tbody>\n",
       "</table>\n",
       "</div>"
      ],
      "text/plain": [
       "      x          y\n",
       "0  24.0  21.549452\n",
       "1  50.0  47.464463\n",
       "2  15.0  17.218656\n",
       "3  38.0  36.586398\n",
       "4  87.0  87.288984"
      ]
     },
     "execution_count": 3,
     "metadata": {},
     "output_type": "execute_result"
    }
   ],
   "source": [
    "data.head()"
   ]
  },
  {
   "cell_type": "code",
   "execution_count": 4,
   "id": "f50f954a-cda8-42e5-a7e1-1ff0143607b5",
   "metadata": {},
   "outputs": [
    {
     "name": "stdout",
     "output_type": "stream",
     "text": [
      "<class 'pandas.core.frame.DataFrame'>\n",
      "RangeIndex: 700 entries, 0 to 699\n",
      "Data columns (total 2 columns):\n",
      " #   Column  Non-Null Count  Dtype  \n",
      "---  ------  --------------  -----  \n",
      " 0   x       700 non-null    float64\n",
      " 1   y       699 non-null    float64\n",
      "dtypes: float64(2)\n",
      "memory usage: 11.1 KB\n"
     ]
    }
   ],
   "source": [
    "data.info()"
   ]
  },
  {
   "cell_type": "code",
   "execution_count": 5,
   "id": "7c6a2efc-1506-4a43-b6c0-7ebbdf240d2c",
   "metadata": {},
   "outputs": [
    {
     "data": {
      "text/html": [
       "<div>\n",
       "<style scoped>\n",
       "    .dataframe tbody tr th:only-of-type {\n",
       "        vertical-align: middle;\n",
       "    }\n",
       "\n",
       "    .dataframe tbody tr th {\n",
       "        vertical-align: top;\n",
       "    }\n",
       "\n",
       "    .dataframe thead th {\n",
       "        text-align: right;\n",
       "    }\n",
       "</style>\n",
       "<table border=\"1\" class=\"dataframe\">\n",
       "  <thead>\n",
       "    <tr style=\"text-align: right;\">\n",
       "      <th></th>\n",
       "      <th>x</th>\n",
       "      <th>y</th>\n",
       "    </tr>\n",
       "  </thead>\n",
       "  <tbody>\n",
       "    <tr>\n",
       "      <th>count</th>\n",
       "      <td>700.000000</td>\n",
       "      <td>699.000000</td>\n",
       "    </tr>\n",
       "    <tr>\n",
       "      <th>mean</th>\n",
       "      <td>54.985939</td>\n",
       "      <td>49.939869</td>\n",
       "    </tr>\n",
       "    <tr>\n",
       "      <th>std</th>\n",
       "      <td>134.681703</td>\n",
       "      <td>29.109217</td>\n",
       "    </tr>\n",
       "    <tr>\n",
       "      <th>min</th>\n",
       "      <td>0.000000</td>\n",
       "      <td>-3.839981</td>\n",
       "    </tr>\n",
       "    <tr>\n",
       "      <th>25%</th>\n",
       "      <td>25.000000</td>\n",
       "      <td>24.929968</td>\n",
       "    </tr>\n",
       "    <tr>\n",
       "      <th>50%</th>\n",
       "      <td>49.000000</td>\n",
       "      <td>48.973020</td>\n",
       "    </tr>\n",
       "    <tr>\n",
       "      <th>75%</th>\n",
       "      <td>75.000000</td>\n",
       "      <td>74.929911</td>\n",
       "    </tr>\n",
       "    <tr>\n",
       "      <th>max</th>\n",
       "      <td>3530.157369</td>\n",
       "      <td>108.871618</td>\n",
       "    </tr>\n",
       "  </tbody>\n",
       "</table>\n",
       "</div>"
      ],
      "text/plain": [
       "                 x           y\n",
       "count   700.000000  699.000000\n",
       "mean     54.985939   49.939869\n",
       "std     134.681703   29.109217\n",
       "min       0.000000   -3.839981\n",
       "25%      25.000000   24.929968\n",
       "50%      49.000000   48.973020\n",
       "75%      75.000000   74.929911\n",
       "max    3530.157369  108.871618"
      ]
     },
     "execution_count": 5,
     "metadata": {},
     "output_type": "execute_result"
    }
   ],
   "source": [
    "data.describe()"
   ]
  },
  {
   "cell_type": "markdown",
   "id": "20cf7edf-ae1f-441e-b89d-2fa90c42c748",
   "metadata": {},
   "source": [
    "## Data Preprocessing"
   ]
  },
  {
   "cell_type": "markdown",
   "id": "f63c4c7a-9168-4fe8-9798-4ed6a38b3006",
   "metadata": {},
   "source": [
    "### Handling Null Values"
   ]
  },
  {
   "cell_type": "code",
   "execution_count": 9,
   "id": "8f107359-9af8-42e0-a476-f221ae698790",
   "metadata": {},
   "outputs": [],
   "source": [
    "data = data.dropna()"
   ]
  },
  {
   "cell_type": "code",
   "execution_count": 12,
   "id": "3faa8faa-2c40-4ba0-bb17-90db77993560",
   "metadata": {},
   "outputs": [
    {
     "name": "stdout",
     "output_type": "stream",
     "text": [
      "Shape of the data: (699, 2)\n"
     ]
    }
   ],
   "source": [
    "print(\"Shape of the data:\",data.shape)"
   ]
  },
  {
   "cell_type": "code",
   "execution_count": 13,
   "id": "b9480c71-2a04-4f24-b792-37fb2faeaa1b",
   "metadata": {},
   "outputs": [
    {
     "name": "stdout",
     "output_type": "stream",
     "text": [
      "<class 'pandas.core.frame.DataFrame'>\n",
      "Index: 699 entries, 0 to 699\n",
      "Data columns (total 2 columns):\n",
      " #   Column  Non-Null Count  Dtype  \n",
      "---  ------  --------------  -----  \n",
      " 0   x       699 non-null    float64\n",
      " 1   y       699 non-null    float64\n",
      "dtypes: float64(2)\n",
      "memory usage: 16.4 KB\n"
     ]
    }
   ],
   "source": [
    "data.info()"
   ]
  },
  {
   "cell_type": "markdown",
   "id": "3a531ec8-221f-4b72-866e-2e4d155771ea",
   "metadata": {},
   "source": [
    "## Splitting the data"
   ]
  },
  {
   "cell_type": "code",
   "execution_count": 16,
   "id": "cd6f6afd-cd92-44ae-af45-c68bc8a8e378",
   "metadata": {},
   "outputs": [
    {
     "name": "stdout",
     "output_type": "stream",
     "text": [
      "Training input : (500, 1)\n",
      "Training output : (500, 1)\n",
      "Testing input : (199, 1)\n",
      "Testing output : (199, 1)\n"
     ]
    }
   ],
   "source": [
    "# training datasets and labels\n",
    "# we are choosing 500 elements for training and then reshape it into 500 rows to 1 column\n",
    "# This takes the first 500 elements (indices 0 to 499)\n",
    "train_input = np.array(data.x[0:500]).reshape(500,1)   \n",
    "train_output = np.array(data.y[0:500]).reshape(500,1)\n",
    "\n",
    "# testing \n",
    "test_input = np.array(data.x[500:700]).reshape(199,1)\n",
    "test_output = np.array(data.y[500:700]).reshape(199,1)\n",
    "\n",
    "# PRinting shapes\n",
    "print(\"Training input : {}\".format(train_input.shape))\n",
    "print(\"Training output : {}\".format(train_output.shape))\n",
    "print(\"Testing input : {}\".format(test_input.shape))\n",
    "print(\"Testing output : {}\".format(test_output.shape))\n"
   ]
  },
  {
   "cell_type": "markdown",
   "id": "487768f8-1206-4782-8525-9545cb9a630d",
   "metadata": {},
   "source": [
    "# <font color = \"green\">Linear Regression</font>"
   ]
  },
  {
   "cell_type": "markdown",
   "id": "b225e6c5-e014-44ad-8bf1-6254d440bcdd",
   "metadata": {},
   "source": [
    "## Forward propogation"
   ]
  },
  {
   "cell_type": "markdown",
   "id": "fdec8efe-b821-444a-916d-158c9a8862f7",
   "metadata": {},
   "source": [
    "**f(x) = m*x + c** ; where m and c are the parameters that or model will learn through training."
   ]
  },
  {
   "cell_type": "code",
   "execution_count": 20,
   "id": "4786ee70-ddc8-4b94-8aca-2d5a17d321c8",
   "metadata": {},
   "outputs": [],
   "source": [
    "def forward_propogation(train_input,parameters):\n",
    "    m = parameters['m']\n",
    "    c = parameters['c']\n",
    "    predictions = np.multiply(m,train_input)+c\n",
    "    return predictions"
   ]
  },
  {
   "cell_type": "markdown",
   "id": "81860732-a8f0-428b-ade3-2352f4160731",
   "metadata": {},
   "source": [
    "## Defining Cost Funciton"
   ]
  },
  {
   "cell_type": "markdown",
   "id": "28310fdf-bc4b-4443-bc35-77a66956e762",
   "metadata": {},
   "source": [
    "**Mean Squared Error, Cost = [(y - f(x)) ^ 2] * 0.5**\n",
    "\n",
    "where y are the actual or true values and f(x) are the predicted values."
   ]
  },
  {
   "cell_type": "code",
   "execution_count": 21,
   "id": "c6ff0607-b2f9-4432-86d6-5c45503da579",
   "metadata": {},
   "outputs": [],
   "source": [
    "def cost_func(predicitons,train_output):\n",
    "    cost = np.mean((train_output - predictions)**2) * 0.5\n",
    "    return cost"
   ]
  },
  {
   "cell_type": "markdown",
   "id": "277739aa-b2c7-4759-9dc0-68bc6c237f1b",
   "metadata": {},
   "source": [
    "## Gradient Descent for Backpropagation"
   ]
  },
  {
   "cell_type": "code",
   "execution_count": null,
   "id": "08cff9b5-53f9-40eb-865e-a283169bc0fa",
   "metadata": {},
   "outputs": [],
   "source": []
  },
  {
   "cell_type": "code",
   "execution_count": null,
   "id": "330238d9-be0c-4d2d-9576-5851a2a6392f",
   "metadata": {},
   "outputs": [],
   "source": []
  },
  {
   "cell_type": "code",
   "execution_count": null,
   "id": "2aa8eee6-d586-4ef3-91ff-4b729aac8cc1",
   "metadata": {},
   "outputs": [],
   "source": []
  },
  {
   "cell_type": "code",
   "execution_count": null,
   "id": "b78948c0-ad42-4001-b64d-14fd689ddf1e",
   "metadata": {},
   "outputs": [],
   "source": []
  },
  {
   "cell_type": "code",
   "execution_count": null,
   "id": "bf7e3409-d96d-4891-baf0-6773506ab1d3",
   "metadata": {},
   "outputs": [],
   "source": []
  }
 ],
 "metadata": {
  "kernelspec": {
   "display_name": "Python 3 (ipykernel)",
   "language": "python",
   "name": "python3"
  },
  "language_info": {
   "codemirror_mode": {
    "name": "ipython",
    "version": 3
   },
   "file_extension": ".py",
   "mimetype": "text/x-python",
   "name": "python",
   "nbconvert_exporter": "python",
   "pygments_lexer": "ipython3",
   "version": "3.12.5"
  }
 },
 "nbformat": 4,
 "nbformat_minor": 5
}
